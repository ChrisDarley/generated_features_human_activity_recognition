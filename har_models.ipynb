{
 "cells": [
  {
   "cell_type": "code",
   "execution_count": 2,
   "id": "d2cd5636",
   "metadata": {},
   "outputs": [],
   "source": [
    "import pathlib\n",
    "import pandas as pd\n",
    "import numpy as np\n",
    "from sklearn.discriminant_analysis import LinearDiscriminantAnalysis\n",
    "from sklearn.discriminant_analysis import QuadraticDiscriminantAnalysis\n",
    "from sklearn.svm import SVC"
   ]
  },
  {
   "cell_type": "code",
   "execution_count": 3,
   "id": "9645e728",
   "metadata": {},
   "outputs": [],
   "source": [
    "path = pathlib.Path.cwd()"
   ]
  },
  {
   "cell_type": "code",
   "execution_count": 4,
   "id": "2564da74",
   "metadata": {},
   "outputs": [],
   "source": [
    "# loading datasets\n",
    "X_train_array = np.loadtxt(path / 'train/X_train.txt')\n",
    "y_train = np.loadtxt(path / 'train/y_train.txt')\n",
    "X_test_array = np.loadtxt(path / 'test/X_test.txt')\n",
    "y_test = np.loadtxt(path / 'test/y_test.txt')"
   ]
  },
  {
   "cell_type": "code",
   "execution_count": 5,
   "id": "c0d8f73f",
   "metadata": {},
   "outputs": [],
   "source": [
    "# loading feature labels\n",
    "features = np.loadtxt(path / 'features.txt', dtype=str)[:, 1]"
   ]
  },
  {
   "cell_type": "code",
   "execution_count": 6,
   "id": "ce8137b4",
   "metadata": {},
   "outputs": [],
   "source": [
    "# Creating X DataFrames for train and test\n",
    "X_train = pd.DataFrame(data=X_train_array, columns=features)\n",
    "X_test = pd.DataFrame(data=X_test_array, columns=features)"
   ]
  },
  {
   "cell_type": "code",
   "execution_count": 10,
   "id": "7b530b3b",
   "metadata": {},
   "outputs": [
    {
     "data": {
      "text/plain": [
       "0.9623345775364778"
      ]
     },
     "execution_count": 10,
     "metadata": {},
     "output_type": "execute_result"
    }
   ],
   "source": [
    "# lda only achieves 96.2% accuracy\n",
    "lda_clf = LinearDiscriminantAnalysis()\n",
    "lda_clf.fit(X_train, y_train)\n",
    "lda_clf.score(X_test, y_test)"
   ]
  },
  {
   "cell_type": "code",
   "execution_count": 9,
   "id": "811def9a",
   "metadata": {},
   "outputs": [
    {
     "name": "stderr",
     "output_type": "stream",
     "text": [
      "C:\\Users\\chris\\anaconda3\\envs\\Data Science\\lib\\site-packages\\sklearn\\discriminant_analysis.py:887: UserWarning: Variables are collinear\n",
      "  warnings.warn(\"Variables are collinear\")\n"
     ]
    },
    {
     "data": {
      "text/plain": [
       "0.836104513064133"
      ]
     },
     "execution_count": 9,
     "metadata": {},
     "output_type": "execute_result"
    }
   ],
   "source": [
    "# qda only achieves 83.6% accuracy\n",
    "qda_clf = QuadraticDiscriminantAnalysis()\n",
    "qda_clf.fit(X_train, y_train)\n",
    "qda_clf.score(X_test, y_test)"
   ]
  }
 ],
 "metadata": {
  "kernelspec": {
   "display_name": "Python 3 (ipykernel)",
   "language": "python",
   "name": "python3"
  },
  "language_info": {
   "codemirror_mode": {
    "name": "ipython",
    "version": 3
   },
   "file_extension": ".py",
   "mimetype": "text/x-python",
   "name": "python",
   "nbconvert_exporter": "python",
   "pygments_lexer": "ipython3",
   "version": "3.8.12"
  }
 },
 "nbformat": 4,
 "nbformat_minor": 5
}
